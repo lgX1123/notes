{
 "cells": [
  {
   "cell_type": "markdown",
   "metadata": {},
   "source": [
    "# 语法"
   ]
  },
  {
   "cell_type": "markdown",
   "metadata": {},
   "source": [
    "切片，如```nums[:-1]```是会复制一个副本"
   ]
  },
  {
   "cell_type": "code",
   "execution_count": 27,
   "metadata": {},
   "outputs": [
    {
     "data": {
      "text/plain": [
       "[1, 2, 3, 4]"
      ]
     },
     "execution_count": 27,
     "metadata": {},
     "output_type": "execute_result"
    }
   ],
   "source": [
    "nums = [1, 2, 3, 4]\n",
    "tmp = nums[:-1]\n",
    "tmp[0] = 100\n",
    "nums"
   ]
  },
  {
   "cell_type": "markdown",
   "metadata": {},
   "source": [
    "# heapq"
   ]
  },
  {
   "cell_type": "code",
   "execution_count": 3,
   "metadata": {},
   "outputs": [],
   "source": [
    "import heapq"
   ]
  },
  {
   "cell_type": "code",
   "execution_count": 26,
   "metadata": {},
   "outputs": [
    {
     "name": "stdout",
     "output_type": "stream",
     "text": [
      "[1, 2, 3, 5]\n",
      "[1, 2, 3, 5, 4]\n",
      "1 [2, 4, 3, 5]\n"
     ]
    }
   ],
   "source": [
    "def my_heapify_min(x):\n",
    "    n = len(x)\n",
    "    for i in reversed(range(n//2)):\n",
    "        sift_up_min(x, i)\n",
    "\n",
    "def sift_up_min(heap, pos):\n",
    "    # 顶为空，小的冒上来，自上而下\n",
    "    endpos = len(heap)\n",
    "    startpos = pos\n",
    "    newitem = heap[pos]\n",
    "    childpos = 2 * pos + 1      # left\n",
    "    while childpos < endpos:\n",
    "        rightpos = childpos + 1\n",
    "        if rightpos < endpos and not heap[childpos] < heap[rightpos]:\n",
    "            childpos = rightpos     # choose a small child\n",
    "        heap[pos] = heap[childpos]      # small child up\n",
    "        pos = childpos\n",
    "        childpos = 2 * pos + 1\n",
    "    heap[pos] = newitem\n",
    "    sift_down_min(heap, startpos, pos)\n",
    "\n",
    "def sift_down_min(heap, startpos, pos):\n",
    "    # pos为空，自下而上\n",
    "    newitem = heap[pos]\n",
    "    while pos > startpos:\n",
    "        parentpos = (pos - 1) >> 1\n",
    "        parent = heap[parentpos]\n",
    "        if newitem < parent:\n",
    "            heap[pos] = parent\n",
    "            pos = parentpos\n",
    "            continue\n",
    "        break\n",
    "    heap[pos] = newitem\n",
    "\n",
    "def heappop(x):\n",
    "    last = x.pop()\n",
    "    if x:\n",
    "        res = x[0]\n",
    "        x[0] = last\n",
    "        sift_up_min(x, 0)\n",
    "        return res\n",
    "    return last\n",
    "\n",
    "def heappush(x, value):\n",
    "    x.append(value)\n",
    "    sift_down_min(x, 0, len(x) - 1)\n",
    "\n",
    "\n",
    "\n",
    "nums = [5,2,3,1]\n",
    "my_heapify_min(nums)\n",
    "print(nums)\n",
    "heappush(nums, 4)\n",
    "print(nums)\n",
    "tmp = heappop(nums)\n",
    "print(tmp, nums)"
   ]
  }
 ],
 "metadata": {
  "kernelspec": {
   "display_name": "base",
   "language": "python",
   "name": "python3"
  },
  "language_info": {
   "codemirror_mode": {
    "name": "ipython",
    "version": 3
   },
   "file_extension": ".py",
   "mimetype": "text/x-python",
   "name": "python",
   "nbconvert_exporter": "python",
   "pygments_lexer": "ipython3",
   "version": "3.11.4"
  },
  "orig_nbformat": 4
 },
 "nbformat": 4,
 "nbformat_minor": 2
}
