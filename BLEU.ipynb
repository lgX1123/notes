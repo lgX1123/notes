{
 "cells": [
  {
   "cell_type": "markdown",
   "metadata": {},
   "source": [
    "# BLEU (Bilingual Evaluation Understudy)"
   ]
  },
  {
   "cell_type": "markdown",
   "metadata": {},
   "source": [
    "$$\\text{BLEU} = \\text{BP} \\times \\exp\\left(\\sum_{n=1}^{N} w_n \\log p_n\\right)$$\n",
    "\n",
    "$$\n",
    "\\text{BP} =\n",
    "\\begin{cases}\n",
    "1 & \\text{if } l_c > l_r \\\\\n",
    "e^{(1-l_r/l_c)} & \\text{if } l_c \\leq l_r\n",
    "\\end{cases}\n",
    "$$\n",
    "\n",
    "BP brevity penalty 惩罚因子。如果预测的句子很短，那就扣分\n",
    "\n",
    "wn是不同n-gram的权重。一般n小于等于4\n",
    "\n",
    "lr是 len of **reference**, lc是 len of **candidate**\n",
    "\n",
    "**Pn表示某个n-gram下，candidate中的词汇有多少个出现在reference中。**"
   ]
  },
  {
   "cell_type": "code",
   "execution_count": null,
   "metadata": {},
   "outputs": [],
   "source": []
  }
 ],
 "metadata": {
  "kernelspec": {
   "display_name": "base",
   "language": "python",
   "name": "python3"
  },
  "language_info": {
   "name": "python",
   "version": "3.11.4"
  },
  "orig_nbformat": 4
 },
 "nbformat": 4,
 "nbformat_minor": 2
}
