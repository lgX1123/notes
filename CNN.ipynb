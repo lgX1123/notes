{
 "cells": [
  {
   "cell_type": "markdown",
   "metadata": {},
   "source": [
    "# CNN"
   ]
  },
  {
   "cell_type": "code",
   "execution_count": 2,
   "metadata": {},
   "outputs": [],
   "source": [
    "import torch\n",
    "import torch.nn as nn"
   ]
  },
  {
   "cell_type": "markdown",
   "metadata": {},
   "source": [
    "## conv 2d"
   ]
  },
  {
   "cell_type": "code",
   "execution_count": 12,
   "metadata": {},
   "outputs": [],
   "source": [
    "# example 2d\n",
    "\n",
    "def conv2d(input, kernel, stride=(1, 1), padding=(0, 0)):\n",
    "    '''\n",
    "    input: [batch_size, in_channel, height, width]\n",
    "    kernel: [out_channel, in_channel, kernel_height, kernel_width]\n",
    "    '''\n",
    "    # TODO: dilation\n",
    "\n",
    "    batch_size, in_channel, height, width = input.shape\n",
    "    out_channel, in_channel, kernel_height, kernel_width = kernel.shape\n",
    "\n",
    "    # padding\n",
    "    padded_height = height + 2 * padding[0]\n",
    "    padded_width = width + 2 * padding[1]\n",
    "    padded_input = torch.zeros((batch_size, in_channel, padded_height, padded_width))\n",
    "    padded_input[:, :, padding[0]:padding[0] + height, padding[1]:padding[1] + width] = input\n",
    "\n",
    "    # output size\n",
    "    output_height = ((height + 2 * padding[0] - kernel_height) // stride[0]) + 1\n",
    "    output_width = ((width + 2 * padding[1] - kernel_width) // stride[1]) + 1\n",
    "\n",
    "    output = torch.zeros((batch_size, out_channel, output_height, output_width))\n",
    "\n",
    "    for i in range(output_height):\n",
    "        for j in range(output_width):\n",
    "            window = padded_input[:, :, i * stride[0]:i * stride[0] + kernel_height, j * stride[1]:j * stride[1] + kernel_width]\n",
    "\n",
    "            for o in range(out_channel):\n",
    "                output[:, o, i, j] = (window * kernel[o]).sum(dim=(1, 2, 3))\n",
    "\n",
    "    return output\n",
    "\n"
   ]
  },
  {
   "cell_type": "code",
   "execution_count": 19,
   "metadata": {},
   "outputs": [],
   "source": [
    "batch_size, in_channel, height, width, out_channel, kernel_height, kernel_width = 2, 3, 4, 5, 4, 2, 2\n",
    "input = torch.rand(batch_size, in_channel, height, width)\n",
    "kernel = torch.rand(out_channel, in_channel, kernel_height, kernel_width)"
   ]
  },
  {
   "cell_type": "code",
   "execution_count": 20,
   "metadata": {},
   "outputs": [
    {
     "data": {
      "text/plain": [
       "torch.Size([2, 4, 3, 4])"
      ]
     },
     "execution_count": 20,
     "metadata": {},
     "output_type": "execute_result"
    }
   ],
   "source": [
    "res1 = conv2d(input, kernel)\n",
    "res1.shape"
   ]
  },
  {
   "cell_type": "code",
   "execution_count": 21,
   "metadata": {},
   "outputs": [
    {
     "data": {
      "text/plain": [
       "torch.Size([2, 4, 3, 4])"
      ]
     },
     "execution_count": 21,
     "metadata": {},
     "output_type": "execute_result"
    }
   ],
   "source": [
    "m = nn.Conv2d(in_channel, out_channel, (kernel_height, kernel_width), stride=(1, 1), padding=(0, 0))\n",
    "res2 = m(input)\n",
    "res2.shape"
   ]
  },
  {
   "cell_type": "markdown",
   "metadata": {},
   "source": [
    "## pooling"
   ]
  },
  {
   "cell_type": "code",
   "execution_count": 33,
   "metadata": {},
   "outputs": [],
   "source": [
    "# example max pooling 2d\n",
    "\n",
    "def max_pool_2d(input, kernel_size=(2, 2), stride=(1, 1), padding=(0, 0)):\n",
    "    '''\n",
    "    input: [batch_size, channel, height, width]\n",
    "    '''\n",
    "    batch_size, channel, height, width = input.shape\n",
    "    kernel_height, kernel_width = kernel_size\n",
    "\n",
    "    # padding\n",
    "    padded_height = height + 2 * padding[0]\n",
    "    padded_width = width + 2 * padding[1]\n",
    "    padded_input = torch.zeros((batch_size, channel, padded_height, padded_width))\n",
    "    padded_input[:, :, padding[0]:padding[0] + height, padding[1]:padding[1] + width] = input\n",
    "\n",
    "    # output size\n",
    "    output_height = ((height + 2 * padding[0] - kernel_height) // stride[0]) + 1\n",
    "    output_width = ((width + 2 * padding[1] - kernel_width) // stride[1]) + 1\n",
    "\n",
    "    output = torch.zeros((batch_size, channel, output_height, output_width))\n",
    "\n",
    "    for i in range(output_height):\n",
    "        for j in range(output_width):\n",
    "            window = padded_input[:, :, i * stride[0]:i * stride[0] + kernel_height, j * stride[1]:j * stride[1] + kernel_width]\n",
    "            output[:, :, i, j] = window.max(dim=2)[0].max(dim=2)[0]\n",
    "\n",
    "    return output\n",
    "\n"
   ]
  },
  {
   "cell_type": "code",
   "execution_count": 35,
   "metadata": {},
   "outputs": [
    {
     "data": {
      "text/plain": [
       "torch.Size([2, 3, 3, 4])"
      ]
     },
     "execution_count": 35,
     "metadata": {},
     "output_type": "execute_result"
    }
   ],
   "source": [
    "res1 = max_pool_2d(input)\n",
    "res1.shape"
   ]
  },
  {
   "cell_type": "code",
   "execution_count": 37,
   "metadata": {},
   "outputs": [
    {
     "data": {
      "text/plain": [
       "torch.Size([2, 3, 3, 4])"
      ]
     },
     "execution_count": 37,
     "metadata": {},
     "output_type": "execute_result"
    }
   ],
   "source": [
    "m = nn.MaxPool2d((2, 2), stride=(1, 1))\n",
    "res2 = m(input)\n",
    "res2.shape"
   ]
  },
  {
   "cell_type": "code",
   "execution_count": 38,
   "metadata": {},
   "outputs": [
    {
     "data": {
      "text/plain": [
       "tensor([[[[True, True, True, True],\n",
       "          [True, True, True, True],\n",
       "          [True, True, True, True]],\n",
       "\n",
       "         [[True, True, True, True],\n",
       "          [True, True, True, True],\n",
       "          [True, True, True, True]],\n",
       "\n",
       "         [[True, True, True, True],\n",
       "          [True, True, True, True],\n",
       "          [True, True, True, True]]],\n",
       "\n",
       "\n",
       "        [[[True, True, True, True],\n",
       "          [True, True, True, True],\n",
       "          [True, True, True, True]],\n",
       "\n",
       "         [[True, True, True, True],\n",
       "          [True, True, True, True],\n",
       "          [True, True, True, True]],\n",
       "\n",
       "         [[True, True, True, True],\n",
       "          [True, True, True, True],\n",
       "          [True, True, True, True]]]])"
      ]
     },
     "execution_count": 38,
     "metadata": {},
     "output_type": "execute_result"
    }
   ],
   "source": [
    "res1 == res2"
   ]
  }
 ],
 "metadata": {
  "kernelspec": {
   "display_name": "base",
   "language": "python",
   "name": "python3"
  },
  "language_info": {
   "codemirror_mode": {
    "name": "ipython",
    "version": 3
   },
   "file_extension": ".py",
   "mimetype": "text/x-python",
   "name": "python",
   "nbconvert_exporter": "python",
   "pygments_lexer": "ipython3",
   "version": "3.11.4"
  },
  "orig_nbformat": 4
 },
 "nbformat": 4,
 "nbformat_minor": 2
}
